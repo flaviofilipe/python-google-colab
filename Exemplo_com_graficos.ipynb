{
  "nbformat": 4,
  "nbformat_minor": 0,
  "metadata": {
    "kernelspec": {
      "display_name": "Python 3",
      "language": "python",
      "name": "python3"
    },
    "language_info": {
      "codemirror_mode": {
        "name": "ipython",
        "version": 3
      },
      "file_extension": ".py",
      "mimetype": "text/x-python",
      "name": "python",
      "nbconvert_exporter": "python",
      "pygments_lexer": "ipython3",
      "version": "3.8.5"
    },
    "colab": {
      "name": "Exemplo com graficos.ipynb",
      "provenance": [],
      "collapsed_sections": []
    }
  },
  "cells": [
    {
      "cell_type": "markdown",
      "metadata": {
        "id": "pPpFNAo8T_Fl"
      },
      "source": [
        ""
      ]
    },
    {
      "cell_type": "markdown",
      "metadata": {
        "id": "NrNM_52cTyiG"
      },
      "source": [
        "# Criação de graficos com Matplotlib\n",
        "## Requesitos\n",
        "- [Matplotlib](https://matplotlib.org/)\n",
        "- [Numpy](https://numpy.org/)"
      ]
    },
    {
      "cell_type": "markdown",
      "metadata": {
        "id": "h60bRAxHTyiU"
      },
      "source": [
        "### Importação da biblioteca e apelidando para *plt*, facilitando seu uso"
      ]
    },
    {
      "cell_type": "code",
      "metadata": {
        "id": "1dA5zhsBTyiW"
      },
      "source": [
        "import matplotlib.pyplot as plt"
      ],
      "execution_count": null,
      "outputs": []
    },
    {
      "cell_type": "markdown",
      "metadata": {
        "id": "VpX0SOPSTyiW"
      },
      "source": [
        "### Criação de um grafico simples onde x = y"
      ]
    },
    {
      "cell_type": "code",
      "metadata": {
        "id": "uKGc5ePoTyiY",
        "outputId": "d78980a8-063c-4e01-e7b5-b0c0b91eed46"
      },
      "source": [
        "x1 = [1,2,3,4,5,6]\n",
        "y1 = [1,2,3,4,5,6]\n",
        "plt.scatter(x1,y1)\n",
        "plt.show()"
      ],
      "execution_count": null,
      "outputs": [
        {
          "output_type": "display_data",
          "data": {
            "image/png": "[encoded data removed]",
            "text/plain": [
              "<Figure size 432x288 with 1 Axes>"
            ]
          },
          "metadata": {
            "tags": [],
            "needs_background": "light"
          }
        }
      ]
    },
    {
      "cell_type": "markdown",
      "metadata": {
        "id": "hMofxmShTyia"
      },
      "source": [
        "### Utilizando numpy para gerar os numeros"
      ]
    },
    {
      "cell_type": "code",
      "metadata": {
        "id": "gQrVFasDTyib"
      },
      "source": [
        "import numpy as np\n",
        "x = np.arange(-100, 100, 10)"
      ],
      "execution_count": null,
      "outputs": []
    },
    {
      "cell_type": "markdown",
      "metadata": {
        "id": "hPsA2pvkTyic"
      },
      "source": [
        "### Criação de um grafico com uma função"
      ]
    },
    {
      "cell_type": "code",
      "metadata": {
        "id": "ymUsjMbKTyic",
        "colab": {
          "base_uri": "https://localhost:8080/",
          "height": 185
        },
        "outputId": "b089ff51-877b-496b-b047-4bc7de221ca9"
      },
      "source": [
        "plt.plot(x, x**2)\n",
        "plt.show()"
      ],
      "execution_count": null,
      "outputs": [
        {
          "output_type": "error",
          "ename": "NameError",
          "evalue": "ignored",
          "traceback": [
            "\u001b[0;31m---------------------------------------------------------------------------\u001b[0m",
            "\u001b[0;31mNameError\u001b[0m                                 Traceback (most recent call last)",
            "\u001b[0;32m<ipython-input-1-c1ba887179ce>\u001b[0m in \u001b[0;36m<module>\u001b[0;34m()\u001b[0m\n\u001b[0;32m----> 1\u001b[0;31m \u001b[0mplt\u001b[0m\u001b[0;34m.\u001b[0m\u001b[0mplot\u001b[0m\u001b[0;34m(\u001b[0m\u001b[0mx\u001b[0m\u001b[0;34m,\u001b[0m \u001b[0mx\u001b[0m\u001b[0;34m**\u001b[0m\u001b[0;36m2\u001b[0m\u001b[0;34m)\u001b[0m\u001b[0;34m\u001b[0m\u001b[0;34m\u001b[0m\u001b[0m\n\u001b[0m\u001b[1;32m      2\u001b[0m \u001b[0mplt\u001b[0m\u001b[0;34m.\u001b[0m\u001b[0mshow\u001b[0m\u001b[0;34m(\u001b[0m\u001b[0;34m)\u001b[0m\u001b[0;34m\u001b[0m\u001b[0;34m\u001b[0m\u001b[0m\n",
            "\u001b[0;31mNameError\u001b[0m: name 'plt' is not defined"
          ]
        }
      ]
    },
    {
      "cell_type": "markdown",
      "metadata": {
        "id": "McS1WPW0Tyie"
      },
      "source": [
        "### [Mais exemplos de gráficos](https://matplotlib.org/3.1.1/tutorials/introductory/sample_plots.html)"
      ]
    },
    {
      "cell_type": "markdown",
      "metadata": {
        "id": "bsIn-9BoTyie"
      },
      "source": [
        "### Exportação para PDF\n",
        "requisitos\n",
        "- [Pandoc](https://pandoc.org/installing.html)"
      ]
    },
    {
      "cell_type": "code",
      "metadata": {
        "id": "UqyLy1K7Tyig"
      },
      "source": [
        ""
      ],
      "execution_count": null,
      "outputs": []
    }
  ]
}