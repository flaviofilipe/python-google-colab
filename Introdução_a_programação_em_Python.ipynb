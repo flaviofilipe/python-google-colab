{
  "nbformat": 4,
  "nbformat_minor": 0,
  "metadata": {
    "colab": {
      "name": "Introdução a programação em Python",
      "provenance": []
    },
    "kernelspec": {
      "name": "python3",
      "display_name": "Python 3"
    },
    "language_info": {
      "name": "python"
    }
  },
  "cells": [
    {
      "cell_type": "markdown",
      "metadata": {
        "id": "aV4xf9qo2fuS"
      },
      "source": [
        "# Hello World"
      ]
    },
    {
      "cell_type": "code",
      "metadata": {
        "id": "iIjrkOx0-on5",
        "colab": {
          "base_uri": "https://localhost:8080/"
        },
        "outputId": "c85f5a2f-3d18-409f-a764-31f75e68710e"
      },
      "source": [
        "print('Hello World')"
      ],
      "execution_count": 1,
      "outputs": [
        {
          "output_type": "stream",
          "text": [
            "Hello World\n"
          ],
          "name": "stdout"
        }
      ]
    },
    {
      "cell_type": "markdown",
      "metadata": {
        "id": "lCUL4JvX3ToM"
      },
      "source": [
        "# Operações"
      ]
    },
    {
      "cell_type": "code",
      "metadata": {
        "colab": {
          "base_uri": "https://localhost:8080/"
        },
        "id": "7z5L10nS3RKc",
        "outputId": "d0dbd9c2-bdb9-4ae8-f6ba-c4317e001db4"
      },
      "source": [
        "2*3"
      ],
      "execution_count": 5,
      "outputs": [
        {
          "output_type": "execute_result",
          "data": {
            "text/plain": [
              "6"
            ]
          },
          "metadata": {
            "tags": []
          },
          "execution_count": 5
        }
      ]
    },
    {
      "cell_type": "code",
      "metadata": {
        "colab": {
          "base_uri": "https://localhost:8080/"
        },
        "id": "N-scd0z33bq8",
        "outputId": "968935d6-def3-49ca-d829-b6777087b904"
      },
      "source": [
        "2**3"
      ],
      "execution_count": 7,
      "outputs": [
        {
          "output_type": "execute_result",
          "data": {
            "text/plain": [
              "8"
            ]
          },
          "metadata": {
            "tags": []
          },
          "execution_count": 7
        }
      ]
    },
    {
      "cell_type": "code",
      "metadata": {
        "colab": {
          "base_uri": "https://localhost:8080/"
        },
        "id": "ZK2d2GHL3fBz",
        "outputId": "68e213dc-1e7c-4aab-f1bb-064917da5de7"
      },
      "source": [
        "3%2"
      ],
      "execution_count": 6,
      "outputs": [
        {
          "output_type": "execute_result",
          "data": {
            "text/plain": [
              "1"
            ]
          },
          "metadata": {
            "tags": []
          },
          "execution_count": 6
        }
      ]
    },
    {
      "cell_type": "markdown",
      "metadata": {
        "id": "WIJvubu-3o1o"
      },
      "source": [
        "# Tipos de dados"
      ]
    },
    {
      "cell_type": "code",
      "metadata": {
        "colab": {
          "base_uri": "https://localhost:8080/"
        },
        "id": "NwiBSrkD3rkZ",
        "outputId": "d7289ff4-3886-45d0-c543-ee413338157c"
      },
      "source": [
        "type('Olá Mundo!')"
      ],
      "execution_count": 8,
      "outputs": [
        {
          "output_type": "execute_result",
          "data": {
            "text/plain": [
              "str"
            ]
          },
          "metadata": {
            "tags": []
          },
          "execution_count": 8
        }
      ]
    },
    {
      "cell_type": "code",
      "metadata": {
        "colab": {
          "base_uri": "https://localhost:8080/"
        },
        "id": "C_JugvSH3x1M",
        "outputId": "f7c8c687-39f8-4757-f999-1d3effd86559"
      },
      "source": [
        "type([1,2,3])"
      ],
      "execution_count": 9,
      "outputs": [
        {
          "output_type": "execute_result",
          "data": {
            "text/plain": [
              "list"
            ]
          },
          "metadata": {
            "tags": []
          },
          "execution_count": 9
        }
      ]
    },
    {
      "cell_type": "code",
      "metadata": {
        "colab": {
          "base_uri": "https://localhost:8080/"
        },
        "id": "9te164Ed31r5",
        "outputId": "86e649c4-c30a-4488-87de-0777e36b6921"
      },
      "source": [
        "type((1,2,3))"
      ],
      "execution_count": 10,
      "outputs": [
        {
          "output_type": "execute_result",
          "data": {
            "text/plain": [
              "tuple"
            ]
          },
          "metadata": {
            "tags": []
          },
          "execution_count": 10
        }
      ]
    },
    {
      "cell_type": "code",
      "metadata": {
        "colab": {
          "base_uri": "https://localhost:8080/"
        },
        "id": "q_Exc8tb36xK",
        "outputId": "26763d27-bfb1-4fac-9ef3-5e80fefb2476"
      },
      "source": [
        "type(True)"
      ],
      "execution_count": 11,
      "outputs": [
        {
          "output_type": "execute_result",
          "data": {
            "text/plain": [
              "bool"
            ]
          },
          "metadata": {
            "tags": []
          },
          "execution_count": 11
        }
      ]
    },
    {
      "cell_type": "markdown",
      "metadata": {
        "id": "--O7Qy6Z3FgT"
      },
      "source": [
        "# Entrada e saída de dados"
      ]
    },
    {
      "cell_type": "code",
      "metadata": {
        "colab": {
          "base_uri": "https://localhost:8080/"
        },
        "id": "RLgcoe8h0vgJ",
        "outputId": "7d211841-3251-4efb-a4ca-f53368737d16"
      },
      "source": [
        "nome = input('Qual o seu nome? ')\n",
        "print('Olá '+nome)\n",
        "print(f'Olá {nome}, tudo bem?')"
      ],
      "execution_count": 23,
      "outputs": [
        {
          "output_type": "stream",
          "text": [
            "Qual o seu nome? Flávio\n",
            "Olá Flávio\n",
            "Olá Flávio, tudo bem?\n"
          ],
          "name": "stdout"
        }
      ]
    },
    {
      "cell_type": "code",
      "metadata": {
        "colab": {
          "base_uri": "https://localhost:8080/"
        },
        "id": "WXTjvyKw6rd4",
        "outputId": "2a64db7a-a148-4aca-f5fb-286736a14f22"
      },
      "source": [
        "idade = int(input('Qual sua idade? '))\n",
        "\n",
        "if(idade >= 18):\n",
        "  print('Maior de idade!')\n",
        "else:\n",
        "  print('Falta {} para sua maior idade!'.format(18-idade))"
      ],
      "execution_count": 26,
      "outputs": [
        {
          "output_type": "stream",
          "text": [
            "Qual sua idade? 15\n",
            "Falta 3 para sua maior idade!\n"
          ],
          "name": "stdout"
        }
      ]
    },
    {
      "cell_type": "markdown",
      "metadata": {
        "id": "rKhxRbl-4ZPZ"
      },
      "source": [
        "# Trabalhando com Strings\n",
        "https://algoritmosempython.com.br/cursos/programacao-python/strings/"
      ]
    },
    {
      "cell_type": "code",
      "metadata": {
        "colab": {
          "base_uri": "https://localhost:8080/"
        },
        "id": "Uwo4wfJk4bbZ",
        "outputId": "863b8a2f-3f2a-41d3-a087-4951c455edb1"
      },
      "source": [
        "fruta = 'banana'\n",
        "print(fruta[0])\n",
        "print(fruta[-1])\n",
        "print(fruta[1:3])\n",
        "print(fruta[::-1]) # Nome invertido\n",
        "\n",
        "numeros = [0,1,2,3,4,5,6,7,8,9,10]\n",
        "print(numeros[0::2]) # Pulando de 2 em 2"
      ],
      "execution_count": 20,
      "outputs": [
        {
          "output_type": "stream",
          "text": [
            "b\n",
            "a\n",
            "an\n",
            "ananab\n",
            "[0, 2, 4, 6, 8, 10]\n"
          ],
          "name": "stdout"
        }
      ]
    },
    {
      "cell_type": "code",
      "metadata": {
        "colab": {
          "base_uri": "https://localhost:8080/"
        },
        "id": "VYQK9AeS5xqO",
        "outputId": "f9d7c6d7-f9de-4f3d-ce33-0dec7d0d486b"
      },
      "source": [
        "frase = 'Eu adoro Python!!'\n",
        "print(frase.replace('adoro', 'amo'))"
      ],
      "execution_count": 22,
      "outputs": [
        {
          "output_type": "stream",
          "text": [
            "Eu amo Python!!\n"
          ],
          "name": "stdout"
        }
      ]
    }
  ]
}